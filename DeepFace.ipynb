{
  "nbformat": 4,
  "nbformat_minor": 0,
  "metadata": {
    "colab": {
      "provenance": [],
      "gpuType": "T4"
    },
    "kernelspec": {
      "name": "python3",
      "display_name": "Python 3"
    },
    "language_info": {
      "name": "python"
    },
    "accelerator": "GPU"
  },
  "cells": [
    {
      "cell_type": "code",
      "execution_count": 21,
      "metadata": {
        "id": "gqVEQxkmLU6a"
      },
      "outputs": [],
      "source": [
        "#Deep Face"
      ]
    },
    {
      "cell_type": "code",
      "source": [
        "# library use for --->\n",
        "# 1. Face Matching\n",
        "# 2. Find Face in a large dataset\n",
        "# 3. Face Analysis -> age, emotion, gender, race"
      ],
      "metadata": {
        "id": "swDLiv--Lci9"
      },
      "execution_count": 22,
      "outputs": []
    },
    {
      "cell_type": "code",
      "source": [
        "! pip install deepface"
      ],
      "metadata": {
        "colab": {
          "base_uri": "https://localhost:8080/"
        },
        "id": "nyXvgpgKMJTU",
        "outputId": "a3c71b1e-c6c4-48d7-9c8b-79ff3c6915f5"
      },
      "execution_count": 23,
      "outputs": [
        {
          "output_type": "stream",
          "name": "stdout",
          "text": [
            "Requirement already satisfied: deepface in /usr/local/lib/python3.10/dist-packages (0.0.93)\n",
            "Requirement already satisfied: requests>=2.27.1 in /usr/local/lib/python3.10/dist-packages (from deepface) (2.32.3)\n",
            "Requirement already satisfied: numpy>=1.14.0 in /usr/local/lib/python3.10/dist-packages (from deepface) (1.26.4)\n",
            "Requirement already satisfied: pandas>=0.23.4 in /usr/local/lib/python3.10/dist-packages (from deepface) (2.2.2)\n",
            "Requirement already satisfied: gdown>=3.10.1 in /usr/local/lib/python3.10/dist-packages (from deepface) (5.2.0)\n",
            "Requirement already satisfied: tqdm>=4.30.0 in /usr/local/lib/python3.10/dist-packages (from deepface) (4.66.5)\n",
            "Requirement already satisfied: Pillow>=5.2.0 in /usr/local/lib/python3.10/dist-packages (from deepface) (10.4.0)\n",
            "Requirement already satisfied: opencv-python>=4.5.5.64 in /usr/local/lib/python3.10/dist-packages (from deepface) (4.10.0.84)\n",
            "Requirement already satisfied: tensorflow>=1.9.0 in /usr/local/lib/python3.10/dist-packages (from deepface) (2.17.0)\n",
            "Requirement already satisfied: keras>=2.2.0 in /usr/local/lib/python3.10/dist-packages (from deepface) (3.4.1)\n",
            "Requirement already satisfied: Flask>=1.1.2 in /usr/local/lib/python3.10/dist-packages (from deepface) (2.2.5)\n",
            "Requirement already satisfied: flask-cors>=4.0.1 in /usr/local/lib/python3.10/dist-packages (from deepface) (5.0.0)\n",
            "Requirement already satisfied: mtcnn>=0.1.0 in /usr/local/lib/python3.10/dist-packages (from deepface) (1.0.0)\n",
            "Requirement already satisfied: retina-face>=0.0.1 in /usr/local/lib/python3.10/dist-packages (from deepface) (0.0.17)\n",
            "Requirement already satisfied: fire>=0.4.0 in /usr/local/lib/python3.10/dist-packages (from deepface) (0.7.0)\n",
            "Requirement already satisfied: gunicorn>=20.1.0 in /usr/local/lib/python3.10/dist-packages (from deepface) (23.0.0)\n",
            "Requirement already satisfied: termcolor in /usr/local/lib/python3.10/dist-packages (from fire>=0.4.0->deepface) (2.5.0)\n",
            "Requirement already satisfied: Werkzeug>=2.2.2 in /usr/local/lib/python3.10/dist-packages (from Flask>=1.1.2->deepface) (3.0.4)\n",
            "Requirement already satisfied: Jinja2>=3.0 in /usr/local/lib/python3.10/dist-packages (from Flask>=1.1.2->deepface) (3.1.4)\n",
            "Requirement already satisfied: itsdangerous>=2.0 in /usr/local/lib/python3.10/dist-packages (from Flask>=1.1.2->deepface) (2.2.0)\n",
            "Requirement already satisfied: click>=8.0 in /usr/local/lib/python3.10/dist-packages (from Flask>=1.1.2->deepface) (8.1.7)\n",
            "Requirement already satisfied: beautifulsoup4 in /usr/local/lib/python3.10/dist-packages (from gdown>=3.10.1->deepface) (4.12.3)\n",
            "Requirement already satisfied: filelock in /usr/local/lib/python3.10/dist-packages (from gdown>=3.10.1->deepface) (3.16.1)\n",
            "Requirement already satisfied: packaging in /usr/local/lib/python3.10/dist-packages (from gunicorn>=20.1.0->deepface) (24.1)\n",
            "Requirement already satisfied: absl-py in /usr/local/lib/python3.10/dist-packages (from keras>=2.2.0->deepface) (1.4.0)\n",
            "Requirement already satisfied: rich in /usr/local/lib/python3.10/dist-packages (from keras>=2.2.0->deepface) (13.9.3)\n",
            "Requirement already satisfied: namex in /usr/local/lib/python3.10/dist-packages (from keras>=2.2.0->deepface) (0.0.8)\n",
            "Requirement already satisfied: h5py in /usr/local/lib/python3.10/dist-packages (from keras>=2.2.0->deepface) (3.11.0)\n",
            "Requirement already satisfied: optree in /usr/local/lib/python3.10/dist-packages (from keras>=2.2.0->deepface) (0.13.0)\n",
            "Requirement already satisfied: ml-dtypes in /usr/local/lib/python3.10/dist-packages (from keras>=2.2.0->deepface) (0.4.1)\n",
            "Requirement already satisfied: joblib>=1.4.2 in /usr/local/lib/python3.10/dist-packages (from mtcnn>=0.1.0->deepface) (1.4.2)\n",
            "Requirement already satisfied: lz4>=4.3.3 in /usr/local/lib/python3.10/dist-packages (from mtcnn>=0.1.0->deepface) (4.3.3)\n",
            "Requirement already satisfied: python-dateutil>=2.8.2 in /usr/local/lib/python3.10/dist-packages (from pandas>=0.23.4->deepface) (2.8.2)\n",
            "Requirement already satisfied: pytz>=2020.1 in /usr/local/lib/python3.10/dist-packages (from pandas>=0.23.4->deepface) (2024.2)\n",
            "Requirement already satisfied: tzdata>=2022.7 in /usr/local/lib/python3.10/dist-packages (from pandas>=0.23.4->deepface) (2024.2)\n",
            "Requirement already satisfied: charset-normalizer<4,>=2 in /usr/local/lib/python3.10/dist-packages (from requests>=2.27.1->deepface) (3.4.0)\n",
            "Requirement already satisfied: idna<4,>=2.5 in /usr/local/lib/python3.10/dist-packages (from requests>=2.27.1->deepface) (3.10)\n",
            "Requirement already satisfied: urllib3<3,>=1.21.1 in /usr/local/lib/python3.10/dist-packages (from requests>=2.27.1->deepface) (2.2.3)\n",
            "Requirement already satisfied: certifi>=2017.4.17 in /usr/local/lib/python3.10/dist-packages (from requests>=2.27.1->deepface) (2024.8.30)\n",
            "Requirement already satisfied: astunparse>=1.6.0 in /usr/local/lib/python3.10/dist-packages (from tensorflow>=1.9.0->deepface) (1.6.3)\n",
            "Requirement already satisfied: flatbuffers>=24.3.25 in /usr/local/lib/python3.10/dist-packages (from tensorflow>=1.9.0->deepface) (24.3.25)\n",
            "Requirement already satisfied: gast!=0.5.0,!=0.5.1,!=0.5.2,>=0.2.1 in /usr/local/lib/python3.10/dist-packages (from tensorflow>=1.9.0->deepface) (0.6.0)\n",
            "Requirement already satisfied: google-pasta>=0.1.1 in /usr/local/lib/python3.10/dist-packages (from tensorflow>=1.9.0->deepface) (0.2.0)\n",
            "Requirement already satisfied: libclang>=13.0.0 in /usr/local/lib/python3.10/dist-packages (from tensorflow>=1.9.0->deepface) (18.1.1)\n",
            "Requirement already satisfied: opt-einsum>=2.3.2 in /usr/local/lib/python3.10/dist-packages (from tensorflow>=1.9.0->deepface) (3.4.0)\n",
            "Requirement already satisfied: protobuf!=4.21.0,!=4.21.1,!=4.21.2,!=4.21.3,!=4.21.4,!=4.21.5,<5.0.0dev,>=3.20.3 in /usr/local/lib/python3.10/dist-packages (from tensorflow>=1.9.0->deepface) (3.20.3)\n",
            "Requirement already satisfied: setuptools in /usr/local/lib/python3.10/dist-packages (from tensorflow>=1.9.0->deepface) (75.1.0)\n",
            "Requirement already satisfied: six>=1.12.0 in /usr/local/lib/python3.10/dist-packages (from tensorflow>=1.9.0->deepface) (1.16.0)\n",
            "Requirement already satisfied: typing-extensions>=3.6.6 in /usr/local/lib/python3.10/dist-packages (from tensorflow>=1.9.0->deepface) (4.12.2)\n",
            "Requirement already satisfied: wrapt>=1.11.0 in /usr/local/lib/python3.10/dist-packages (from tensorflow>=1.9.0->deepface) (1.16.0)\n",
            "Requirement already satisfied: grpcio<2.0,>=1.24.3 in /usr/local/lib/python3.10/dist-packages (from tensorflow>=1.9.0->deepface) (1.64.1)\n",
            "Requirement already satisfied: tensorboard<2.18,>=2.17 in /usr/local/lib/python3.10/dist-packages (from tensorflow>=1.9.0->deepface) (2.17.0)\n",
            "Requirement already satisfied: tensorflow-io-gcs-filesystem>=0.23.1 in /usr/local/lib/python3.10/dist-packages (from tensorflow>=1.9.0->deepface) (0.37.1)\n",
            "Requirement already satisfied: wheel<1.0,>=0.23.0 in /usr/local/lib/python3.10/dist-packages (from astunparse>=1.6.0->tensorflow>=1.9.0->deepface) (0.44.0)\n",
            "Requirement already satisfied: MarkupSafe>=2.0 in /usr/local/lib/python3.10/dist-packages (from Jinja2>=3.0->Flask>=1.1.2->deepface) (3.0.2)\n",
            "Requirement already satisfied: markdown>=2.6.8 in /usr/local/lib/python3.10/dist-packages (from tensorboard<2.18,>=2.17->tensorflow>=1.9.0->deepface) (3.7)\n",
            "Requirement already satisfied: tensorboard-data-server<0.8.0,>=0.7.0 in /usr/local/lib/python3.10/dist-packages (from tensorboard<2.18,>=2.17->tensorflow>=1.9.0->deepface) (0.7.2)\n",
            "Requirement already satisfied: soupsieve>1.2 in /usr/local/lib/python3.10/dist-packages (from beautifulsoup4->gdown>=3.10.1->deepface) (2.6)\n",
            "Requirement already satisfied: PySocks!=1.5.7,>=1.5.6 in /usr/local/lib/python3.10/dist-packages (from requests[socks]->gdown>=3.10.1->deepface) (1.7.1)\n",
            "Requirement already satisfied: markdown-it-py>=2.2.0 in /usr/local/lib/python3.10/dist-packages (from rich->keras>=2.2.0->deepface) (3.0.0)\n",
            "Requirement already satisfied: pygments<3.0.0,>=2.13.0 in /usr/local/lib/python3.10/dist-packages (from rich->keras>=2.2.0->deepface) (2.18.0)\n",
            "Requirement already satisfied: mdurl~=0.1 in /usr/local/lib/python3.10/dist-packages (from markdown-it-py>=2.2.0->rich->keras>=2.2.0->deepface) (0.1.2)\n"
          ]
        }
      ]
    },
    {
      "cell_type": "code",
      "source": [
        "from deepface import DeepFace"
      ],
      "metadata": {
        "id": "D3G3XNnyNRgr"
      },
      "execution_count": 24,
      "outputs": []
    },
    {
      "cell_type": "code",
      "source": [
        "from google.colab import files\n",
        "uploaded = files.upload()"
      ],
      "metadata": {
        "colab": {
          "base_uri": "https://localhost:8080/",
          "height": 109
        },
        "id": "6IVJSZShOimq",
        "outputId": "ae999a25-42ea-433a-ea14-04ac458d91be"
      },
      "execution_count": 25,
      "outputs": [
        {
          "output_type": "display_data",
          "data": {
            "text/plain": [
              "<IPython.core.display.HTML object>"
            ],
            "text/html": [
              "\n",
              "     <input type=\"file\" id=\"files-f82640b3-414b-469f-8942-bede280c54ef\" name=\"files[]\" multiple disabled\n",
              "        style=\"border:none\" />\n",
              "     <output id=\"result-f82640b3-414b-469f-8942-bede280c54ef\">\n",
              "      Upload widget is only available when the cell has been executed in the\n",
              "      current browser session. Please rerun this cell to enable.\n",
              "      </output>\n",
              "      <script>// Copyright 2017 Google LLC\n",
              "//\n",
              "// Licensed under the Apache License, Version 2.0 (the \"License\");\n",
              "// you may not use this file except in compliance with the License.\n",
              "// You may obtain a copy of the License at\n",
              "//\n",
              "//      http://www.apache.org/licenses/LICENSE-2.0\n",
              "//\n",
              "// Unless required by applicable law or agreed to in writing, software\n",
              "// distributed under the License is distributed on an \"AS IS\" BASIS,\n",
              "// WITHOUT WARRANTIES OR CONDITIONS OF ANY KIND, either express or implied.\n",
              "// See the License for the specific language governing permissions and\n",
              "// limitations under the License.\n",
              "\n",
              "/**\n",
              " * @fileoverview Helpers for google.colab Python module.\n",
              " */\n",
              "(function(scope) {\n",
              "function span(text, styleAttributes = {}) {\n",
              "  const element = document.createElement('span');\n",
              "  element.textContent = text;\n",
              "  for (const key of Object.keys(styleAttributes)) {\n",
              "    element.style[key] = styleAttributes[key];\n",
              "  }\n",
              "  return element;\n",
              "}\n",
              "\n",
              "// Max number of bytes which will be uploaded at a time.\n",
              "const MAX_PAYLOAD_SIZE = 100 * 1024;\n",
              "\n",
              "function _uploadFiles(inputId, outputId) {\n",
              "  const steps = uploadFilesStep(inputId, outputId);\n",
              "  const outputElement = document.getElementById(outputId);\n",
              "  // Cache steps on the outputElement to make it available for the next call\n",
              "  // to uploadFilesContinue from Python.\n",
              "  outputElement.steps = steps;\n",
              "\n",
              "  return _uploadFilesContinue(outputId);\n",
              "}\n",
              "\n",
              "// This is roughly an async generator (not supported in the browser yet),\n",
              "// where there are multiple asynchronous steps and the Python side is going\n",
              "// to poll for completion of each step.\n",
              "// This uses a Promise to block the python side on completion of each step,\n",
              "// then passes the result of the previous step as the input to the next step.\n",
              "function _uploadFilesContinue(outputId) {\n",
              "  const outputElement = document.getElementById(outputId);\n",
              "  const steps = outputElement.steps;\n",
              "\n",
              "  const next = steps.next(outputElement.lastPromiseValue);\n",
              "  return Promise.resolve(next.value.promise).then((value) => {\n",
              "    // Cache the last promise value to make it available to the next\n",
              "    // step of the generator.\n",
              "    outputElement.lastPromiseValue = value;\n",
              "    return next.value.response;\n",
              "  });\n",
              "}\n",
              "\n",
              "/**\n",
              " * Generator function which is called between each async step of the upload\n",
              " * process.\n",
              " * @param {string} inputId Element ID of the input file picker element.\n",
              " * @param {string} outputId Element ID of the output display.\n",
              " * @return {!Iterable<!Object>} Iterable of next steps.\n",
              " */\n",
              "function* uploadFilesStep(inputId, outputId) {\n",
              "  const inputElement = document.getElementById(inputId);\n",
              "  inputElement.disabled = false;\n",
              "\n",
              "  const outputElement = document.getElementById(outputId);\n",
              "  outputElement.innerHTML = '';\n",
              "\n",
              "  const pickedPromise = new Promise((resolve) => {\n",
              "    inputElement.addEventListener('change', (e) => {\n",
              "      resolve(e.target.files);\n",
              "    });\n",
              "  });\n",
              "\n",
              "  const cancel = document.createElement('button');\n",
              "  inputElement.parentElement.appendChild(cancel);\n",
              "  cancel.textContent = 'Cancel upload';\n",
              "  const cancelPromise = new Promise((resolve) => {\n",
              "    cancel.onclick = () => {\n",
              "      resolve(null);\n",
              "    };\n",
              "  });\n",
              "\n",
              "  // Wait for the user to pick the files.\n",
              "  const files = yield {\n",
              "    promise: Promise.race([pickedPromise, cancelPromise]),\n",
              "    response: {\n",
              "      action: 'starting',\n",
              "    }\n",
              "  };\n",
              "\n",
              "  cancel.remove();\n",
              "\n",
              "  // Disable the input element since further picks are not allowed.\n",
              "  inputElement.disabled = true;\n",
              "\n",
              "  if (!files) {\n",
              "    return {\n",
              "      response: {\n",
              "        action: 'complete',\n",
              "      }\n",
              "    };\n",
              "  }\n",
              "\n",
              "  for (const file of files) {\n",
              "    const li = document.createElement('li');\n",
              "    li.append(span(file.name, {fontWeight: 'bold'}));\n",
              "    li.append(span(\n",
              "        `(${file.type || 'n/a'}) - ${file.size} bytes, ` +\n",
              "        `last modified: ${\n",
              "            file.lastModifiedDate ? file.lastModifiedDate.toLocaleDateString() :\n",
              "                                    'n/a'} - `));\n",
              "    const percent = span('0% done');\n",
              "    li.appendChild(percent);\n",
              "\n",
              "    outputElement.appendChild(li);\n",
              "\n",
              "    const fileDataPromise = new Promise((resolve) => {\n",
              "      const reader = new FileReader();\n",
              "      reader.onload = (e) => {\n",
              "        resolve(e.target.result);\n",
              "      };\n",
              "      reader.readAsArrayBuffer(file);\n",
              "    });\n",
              "    // Wait for the data to be ready.\n",
              "    let fileData = yield {\n",
              "      promise: fileDataPromise,\n",
              "      response: {\n",
              "        action: 'continue',\n",
              "      }\n",
              "    };\n",
              "\n",
              "    // Use a chunked sending to avoid message size limits. See b/62115660.\n",
              "    let position = 0;\n",
              "    do {\n",
              "      const length = Math.min(fileData.byteLength - position, MAX_PAYLOAD_SIZE);\n",
              "      const chunk = new Uint8Array(fileData, position, length);\n",
              "      position += length;\n",
              "\n",
              "      const base64 = btoa(String.fromCharCode.apply(null, chunk));\n",
              "      yield {\n",
              "        response: {\n",
              "          action: 'append',\n",
              "          file: file.name,\n",
              "          data: base64,\n",
              "        },\n",
              "      };\n",
              "\n",
              "      let percentDone = fileData.byteLength === 0 ?\n",
              "          100 :\n",
              "          Math.round((position / fileData.byteLength) * 100);\n",
              "      percent.textContent = `${percentDone}% done`;\n",
              "\n",
              "    } while (position < fileData.byteLength);\n",
              "  }\n",
              "\n",
              "  // All done.\n",
              "  yield {\n",
              "    response: {\n",
              "      action: 'complete',\n",
              "    }\n",
              "  };\n",
              "}\n",
              "\n",
              "scope.google = scope.google || {};\n",
              "scope.google.colab = scope.google.colab || {};\n",
              "scope.google.colab._files = {\n",
              "  _uploadFiles,\n",
              "  _uploadFilesContinue,\n",
              "};\n",
              "})(self);\n",
              "</script> "
            ]
          },
          "metadata": {}
        },
        {
          "output_type": "stream",
          "name": "stdout",
          "text": [
            "Saving elonmusk2.jpeg to elonmusk2 (1).jpeg\n",
            "Saving elonmusk1.jpeg to elonmusk1 (2).jpeg\n"
          ]
        }
      ]
    },
    {
      "cell_type": "code",
      "source": [
        "img_path1 = '/content/elonmusk1 (2).jpeg'\n",
        "img_path2 = '/content/elonmusk2 (1).jpeg'\n"
      ],
      "metadata": {
        "id": "GnF7S3XYO7gp"
      },
      "execution_count": 27,
      "outputs": []
    },
    {
      "cell_type": "code",
      "source": [
        "# Face Matching\n",
        "result = DeepFace.verify(img1_path = img_path1, img2_path = img_path2 )\n",
        "print(result)"
      ],
      "metadata": {
        "id": "J_1BkYsZOpxP",
        "colab": {
          "base_uri": "https://localhost:8080/"
        },
        "outputId": "569b482f-58a3-4eae-8a69-c82f76b12dad"
      },
      "execution_count": 28,
      "outputs": [
        {
          "output_type": "stream",
          "name": "stdout",
          "text": [
            "{'verified': True, 'distance': 0.4080787655325242, 'threshold': 0.68, 'model': 'VGG-Face', 'detector_backend': 'opencv', 'similarity_metric': 'cosine', 'facial_areas': {'img1': {'x': 64, 'y': 48, 'w': 72, 'h': 72, 'left_eye': None, 'right_eye': None}, 'img2': {'x': 89, 'y': 26, 'w': 57, 'h': 57, 'left_eye': None, 'right_eye': None}}, 'time': 2.8}\n"
          ]
        }
      ]
    },
    {
      "cell_type": "code",
      "source": [
        "# Info-->\n",
        "import json\n",
        "print(json.dumps(result, indent = 2))"
      ],
      "metadata": {
        "colab": {
          "base_uri": "https://localhost:8080/"
        },
        "id": "F3h3HRoTPUk1",
        "outputId": "3e9ebfa1-a404-485a-8538-f91f151b396b"
      },
      "execution_count": 31,
      "outputs": [
        {
          "output_type": "stream",
          "name": "stdout",
          "text": [
            "{\n",
            "  \"verified\": true,\n",
            "  \"distance\": 0.4080787655325242,\n",
            "  \"threshold\": 0.68,\n",
            "  \"model\": \"VGG-Face\",\n",
            "  \"detector_backend\": \"opencv\",\n",
            "  \"similarity_metric\": \"cosine\",\n",
            "  \"facial_areas\": {\n",
            "    \"img1\": {\n",
            "      \"x\": 64,\n",
            "      \"y\": 48,\n",
            "      \"w\": 72,\n",
            "      \"h\": 72,\n",
            "      \"left_eye\": null,\n",
            "      \"right_eye\": null\n",
            "    },\n",
            "    \"img2\": {\n",
            "      \"x\": 89,\n",
            "      \"y\": 26,\n",
            "      \"w\": 57,\n",
            "      \"h\": 57,\n",
            "      \"left_eye\": null,\n",
            "      \"right_eye\": null\n",
            "    }\n",
            "  },\n",
            "  \"time\": 2.8\n",
            "}\n"
          ]
        }
      ]
    },
    {
      "cell_type": "code",
      "source": [
        "from google.colab import files\n",
        "uploaded = files.upload()"
      ],
      "metadata": {
        "colab": {
          "base_uri": "https://localhost:8080/",
          "height": 109
        },
        "id": "zTOuV6b3Pgzw",
        "outputId": "25cd666d-c9b5-4c83-f169-5f7d595ff54e"
      },
      "execution_count": 32,
      "outputs": [
        {
          "output_type": "display_data",
          "data": {
            "text/plain": [
              "<IPython.core.display.HTML object>"
            ],
            "text/html": [
              "\n",
              "     <input type=\"file\" id=\"files-67669b1a-9dc8-4826-a5ff-765f345758b0\" name=\"files[]\" multiple disabled\n",
              "        style=\"border:none\" />\n",
              "     <output id=\"result-67669b1a-9dc8-4826-a5ff-765f345758b0\">\n",
              "      Upload widget is only available when the cell has been executed in the\n",
              "      current browser session. Please rerun this cell to enable.\n",
              "      </output>\n",
              "      <script>// Copyright 2017 Google LLC\n",
              "//\n",
              "// Licensed under the Apache License, Version 2.0 (the \"License\");\n",
              "// you may not use this file except in compliance with the License.\n",
              "// You may obtain a copy of the License at\n",
              "//\n",
              "//      http://www.apache.org/licenses/LICENSE-2.0\n",
              "//\n",
              "// Unless required by applicable law or agreed to in writing, software\n",
              "// distributed under the License is distributed on an \"AS IS\" BASIS,\n",
              "// WITHOUT WARRANTIES OR CONDITIONS OF ANY KIND, either express or implied.\n",
              "// See the License for the specific language governing permissions and\n",
              "// limitations under the License.\n",
              "\n",
              "/**\n",
              " * @fileoverview Helpers for google.colab Python module.\n",
              " */\n",
              "(function(scope) {\n",
              "function span(text, styleAttributes = {}) {\n",
              "  const element = document.createElement('span');\n",
              "  element.textContent = text;\n",
              "  for (const key of Object.keys(styleAttributes)) {\n",
              "    element.style[key] = styleAttributes[key];\n",
              "  }\n",
              "  return element;\n",
              "}\n",
              "\n",
              "// Max number of bytes which will be uploaded at a time.\n",
              "const MAX_PAYLOAD_SIZE = 100 * 1024;\n",
              "\n",
              "function _uploadFiles(inputId, outputId) {\n",
              "  const steps = uploadFilesStep(inputId, outputId);\n",
              "  const outputElement = document.getElementById(outputId);\n",
              "  // Cache steps on the outputElement to make it available for the next call\n",
              "  // to uploadFilesContinue from Python.\n",
              "  outputElement.steps = steps;\n",
              "\n",
              "  return _uploadFilesContinue(outputId);\n",
              "}\n",
              "\n",
              "// This is roughly an async generator (not supported in the browser yet),\n",
              "// where there are multiple asynchronous steps and the Python side is going\n",
              "// to poll for completion of each step.\n",
              "// This uses a Promise to block the python side on completion of each step,\n",
              "// then passes the result of the previous step as the input to the next step.\n",
              "function _uploadFilesContinue(outputId) {\n",
              "  const outputElement = document.getElementById(outputId);\n",
              "  const steps = outputElement.steps;\n",
              "\n",
              "  const next = steps.next(outputElement.lastPromiseValue);\n",
              "  return Promise.resolve(next.value.promise).then((value) => {\n",
              "    // Cache the last promise value to make it available to the next\n",
              "    // step of the generator.\n",
              "    outputElement.lastPromiseValue = value;\n",
              "    return next.value.response;\n",
              "  });\n",
              "}\n",
              "\n",
              "/**\n",
              " * Generator function which is called between each async step of the upload\n",
              " * process.\n",
              " * @param {string} inputId Element ID of the input file picker element.\n",
              " * @param {string} outputId Element ID of the output display.\n",
              " * @return {!Iterable<!Object>} Iterable of next steps.\n",
              " */\n",
              "function* uploadFilesStep(inputId, outputId) {\n",
              "  const inputElement = document.getElementById(inputId);\n",
              "  inputElement.disabled = false;\n",
              "\n",
              "  const outputElement = document.getElementById(outputId);\n",
              "  outputElement.innerHTML = '';\n",
              "\n",
              "  const pickedPromise = new Promise((resolve) => {\n",
              "    inputElement.addEventListener('change', (e) => {\n",
              "      resolve(e.target.files);\n",
              "    });\n",
              "  });\n",
              "\n",
              "  const cancel = document.createElement('button');\n",
              "  inputElement.parentElement.appendChild(cancel);\n",
              "  cancel.textContent = 'Cancel upload';\n",
              "  const cancelPromise = new Promise((resolve) => {\n",
              "    cancel.onclick = () => {\n",
              "      resolve(null);\n",
              "    };\n",
              "  });\n",
              "\n",
              "  // Wait for the user to pick the files.\n",
              "  const files = yield {\n",
              "    promise: Promise.race([pickedPromise, cancelPromise]),\n",
              "    response: {\n",
              "      action: 'starting',\n",
              "    }\n",
              "  };\n",
              "\n",
              "  cancel.remove();\n",
              "\n",
              "  // Disable the input element since further picks are not allowed.\n",
              "  inputElement.disabled = true;\n",
              "\n",
              "  if (!files) {\n",
              "    return {\n",
              "      response: {\n",
              "        action: 'complete',\n",
              "      }\n",
              "    };\n",
              "  }\n",
              "\n",
              "  for (const file of files) {\n",
              "    const li = document.createElement('li');\n",
              "    li.append(span(file.name, {fontWeight: 'bold'}));\n",
              "    li.append(span(\n",
              "        `(${file.type || 'n/a'}) - ${file.size} bytes, ` +\n",
              "        `last modified: ${\n",
              "            file.lastModifiedDate ? file.lastModifiedDate.toLocaleDateString() :\n",
              "                                    'n/a'} - `));\n",
              "    const percent = span('0% done');\n",
              "    li.appendChild(percent);\n",
              "\n",
              "    outputElement.appendChild(li);\n",
              "\n",
              "    const fileDataPromise = new Promise((resolve) => {\n",
              "      const reader = new FileReader();\n",
              "      reader.onload = (e) => {\n",
              "        resolve(e.target.result);\n",
              "      };\n",
              "      reader.readAsArrayBuffer(file);\n",
              "    });\n",
              "    // Wait for the data to be ready.\n",
              "    let fileData = yield {\n",
              "      promise: fileDataPromise,\n",
              "      response: {\n",
              "        action: 'continue',\n",
              "      }\n",
              "    };\n",
              "\n",
              "    // Use a chunked sending to avoid message size limits. See b/62115660.\n",
              "    let position = 0;\n",
              "    do {\n",
              "      const length = Math.min(fileData.byteLength - position, MAX_PAYLOAD_SIZE);\n",
              "      const chunk = new Uint8Array(fileData, position, length);\n",
              "      position += length;\n",
              "\n",
              "      const base64 = btoa(String.fromCharCode.apply(null, chunk));\n",
              "      yield {\n",
              "        response: {\n",
              "          action: 'append',\n",
              "          file: file.name,\n",
              "          data: base64,\n",
              "        },\n",
              "      };\n",
              "\n",
              "      let percentDone = fileData.byteLength === 0 ?\n",
              "          100 :\n",
              "          Math.round((position / fileData.byteLength) * 100);\n",
              "      percent.textContent = `${percentDone}% done`;\n",
              "\n",
              "    } while (position < fileData.byteLength);\n",
              "  }\n",
              "\n",
              "  // All done.\n",
              "  yield {\n",
              "    response: {\n",
              "      action: 'complete',\n",
              "    }\n",
              "  };\n",
              "}\n",
              "\n",
              "scope.google = scope.google || {};\n",
              "scope.google.colab = scope.google.colab || {};\n",
              "scope.google.colab._files = {\n",
              "  _uploadFiles,\n",
              "  _uploadFilesContinue,\n",
              "};\n",
              "})(self);\n",
              "</script> "
            ]
          },
          "metadata": {}
        },
        {
          "output_type": "stream",
          "name": "stdout",
          "text": [
            "Saving elonDuplicate2.jpg to elonDuplicate2.jpg\n",
            "Saving elonDuplicate1.webp to elonDuplicate1.webp\n"
          ]
        }
      ]
    },
    {
      "cell_type": "code",
      "source": [
        "img_path1False = '/content/elonDuplicate2.jpg'\n",
        "img_path2False = '/content/elonDuplicate1.webp'"
      ],
      "metadata": {
        "id": "_yfFR98OQBSJ"
      },
      "execution_count": 39,
      "outputs": []
    },
    {
      "cell_type": "code",
      "source": [
        "# Face Matching\n",
        "resultFalse = DeepFace.verify(img1_path = img_path1False, img2_path = img_path2False )\n",
        "print(resultFalse)"
      ],
      "metadata": {
        "colab": {
          "base_uri": "https://localhost:8080/"
        },
        "id": "6sJ3muKLQfAh",
        "outputId": "e8c13227-6244-4be5-b1af-2b2ec56798e1"
      },
      "execution_count": 40,
      "outputs": [
        {
          "output_type": "stream",
          "name": "stdout",
          "text": [
            "{'verified': False, 'distance': 0.8071027750838997, 'threshold': 0.68, 'model': 'VGG-Face', 'detector_backend': 'opencv', 'similarity_metric': 'cosine', 'facial_areas': {'img1': {'x': 113, 'y': 29, 'w': 197, 'h': 197, 'left_eye': (241, 107), 'right_eye': (172, 109)}, 'img2': {'x': 89, 'y': 41, 'w': 168, 'h': 168, 'left_eye': None, 'right_eye': None}}, 'time': 0.67}\n"
          ]
        }
      ]
    },
    {
      "cell_type": "code",
      "source": [
        "search_img = '/content/elonmusk1 (2).jpeg'"
      ],
      "metadata": {
        "id": "xpkxj9mCRltF"
      },
      "execution_count": 44,
      "outputs": []
    },
    {
      "cell_type": "code",
      "source": [
        "# Find Faces in db\n",
        "dfs = DeepFace.find(img_path = search_img, db_path = \"/content\")\n",
        "print(dfs)"
      ],
      "metadata": {
        "colab": {
          "base_uri": "https://localhost:8080/"
        },
        "id": "1aWSE2uWQht1",
        "outputId": "ec439e0a-7bf2-4297-e52c-9a5526f6972b"
      },
      "execution_count": 45,
      "outputs": [
        {
          "output_type": "stream",
          "name": "stdout",
          "text": [
            "24-10-25 10:45:41 - Searching /content/elonmusk1 (2).jpeg in 6 length datastore\n",
            "24-10-25 10:45:41 - find function duration 0.09328889846801758 seconds\n",
            "[                      identity                                      hash  \\\n",
            "0      /content/elonmusk1.jpeg  0fc0d19cc6251fc11e71a2816c77b4976355519e   \n",
            "1  /content/elonmusk1 (1).jpeg  9de3c811e6e8e6a4c9967ad624a9208107476b47   \n",
            "2  /content/elonmusk1 (2).jpeg  a98e33bddb713ddab414bec1d359ad00aa49dcc4   \n",
            "3  /content/elonDuplicate2.jpg  c48328c1da87977fd52143eb2f5e8ed198a3bea8   \n",
            "4  /content/elonmusk2 (1).jpeg  2098044a11364ec1098c37145a0941f93fe51379   \n",
            "5      /content/elonmusk2.jpeg  2c4cddb02d9e964e3c62a2e0676c87e39a59035f   \n",
            "\n",
            "   target_x  target_y  target_w  target_h  source_x  source_y  source_w  \\\n",
            "0        64        48        72        72        64        48        72   \n",
            "1        64        48        72        72        64        48        72   \n",
            "2        64        48        72        72        64        48        72   \n",
            "3       113        29       197       197        64        48        72   \n",
            "4        89        26        57        57        64        48        72   \n",
            "5        89        26        57        57        64        48        72   \n",
            "\n",
            "   source_h  threshold  distance  \n",
            "0        72       0.68  0.000000  \n",
            "1        72       0.68  0.000000  \n",
            "2        72       0.68  0.000000  \n",
            "3        72       0.68  0.311117  \n",
            "4        72       0.68  0.408079  \n",
            "5        72       0.68  0.408079  ]\n"
          ]
        }
      ]
    },
    {
      "cell_type": "code",
      "source": [
        "# Face Analysis\n",
        "analysis = DeepFace.analyze(img_path = search_img)\n",
        "print(analysis)"
      ],
      "metadata": {
        "colab": {
          "base_uri": "https://localhost:8080/"
        },
        "id": "ntp_9KH7R_WY",
        "outputId": "4ae2c960-5ac0-4212-9b57-c576dfb3b023"
      },
      "execution_count": 46,
      "outputs": [
        {
          "output_type": "stream",
          "name": "stderr",
          "text": [
            "Action: emotion:   0%|          | 0/4 [00:00<?, ?it/s]"
          ]
        },
        {
          "output_type": "stream",
          "name": "stdout",
          "text": [
            "24-10-25 10:47:55 - facial_expression_model_weights.h5 will be downloaded...\n"
          ]
        },
        {
          "output_type": "stream",
          "name": "stderr",
          "text": [
            "Downloading...\n",
            "From: https://github.com/serengil/deepface_models/releases/download/v1.0/facial_expression_model_weights.h5\n",
            "To: /root/.deepface/weights/facial_expression_model_weights.h5\n",
            "\n",
            "100%|██████████| 5.98M/5.98M [00:00<00:00, 215MB/s]\n",
            "Action: age:  25%|██▌       | 1/4 [00:01<00:05,  1.98s/it]    "
          ]
        },
        {
          "output_type": "stream",
          "name": "stdout",
          "text": [
            "24-10-25 10:47:57 - age_model_weights.h5 will be downloaded...\n"
          ]
        },
        {
          "output_type": "stream",
          "name": "stderr",
          "text": [
            "Downloading...\n",
            "From: https://github.com/serengil/deepface_models/releases/download/v1.0/age_model_weights.h5\n",
            "To: /root/.deepface/weights/age_model_weights.h5\n",
            "\n",
            "  0%|          | 0.00/539M [00:00<?, ?B/s]\u001b[A\n",
            "  7%|▋         | 37.7M/539M [00:00<00:01, 374MB/s]\u001b[A\n",
            " 14%|█▍        | 75.5M/539M [00:00<00:01, 252MB/s]\u001b[A\n",
            " 19%|█▉        | 103M/539M [00:00<00:02, 184MB/s] \u001b[A\n",
            " 23%|██▎       | 124M/539M [00:00<00:02, 189MB/s]\u001b[A\n",
            " 28%|██▊       | 153M/539M [00:00<00:01, 216MB/s]\u001b[A\n",
            " 33%|███▎      | 177M/539M [00:00<00:01, 188MB/s]\u001b[A\n",
            " 40%|███▉      | 214M/539M [00:00<00:01, 236MB/s]\u001b[A\n",
            " 45%|████▍     | 241M/539M [00:01<00:01, 234MB/s]\u001b[A\n",
            " 50%|████▉     | 267M/539M [00:01<00:01, 241MB/s]\u001b[A\n",
            " 54%|█████▍    | 293M/539M [00:03<00:08, 30.1MB/s]\u001b[A\n",
            " 61%|██████▏   | 330M/539M [00:03<00:04, 46.1MB/s]\u001b[A\n",
            " 66%|██████▌   | 354M/539M [00:04<00:03, 56.1MB/s]\u001b[A\n",
            " 71%|███████   | 381M/539M [00:04<00:02, 72.5MB/s]\u001b[A\n",
            " 75%|███████▌  | 404M/539M [00:04<00:01, 86.6MB/s]\u001b[A\n",
            " 79%|███████▉  | 426M/539M [00:04<00:01, 101MB/s] \u001b[A\n",
            " 84%|████████▍ | 455M/539M [00:04<00:00, 128MB/s]\u001b[A\n",
            " 90%|█████████ | 487M/539M [00:04<00:00, 161MB/s]\u001b[A\n",
            "100%|██████████| 539M/539M [00:04<00:00, 110MB/s]\n",
            "Action: gender:  50%|█████     | 2/4 [00:09<00:10,  5.37s/it]"
          ]
        },
        {
          "output_type": "stream",
          "name": "stdout",
          "text": [
            "24-10-25 10:48:05 - gender_model_weights.h5 will be downloaded...\n"
          ]
        },
        {
          "output_type": "stream",
          "name": "stderr",
          "text": [
            "Downloading...\n",
            "From: https://github.com/serengil/deepface_models/releases/download/v1.0/gender_model_weights.h5\n",
            "To: /root/.deepface/weights/gender_model_weights.h5\n",
            "\n",
            "  0%|          | 0.00/537M [00:00<?, ?B/s]\u001b[A\n",
            "  6%|▌         | 32.0M/537M [00:00<00:01, 301MB/s]\u001b[A\n",
            " 12%|█▏        | 62.4M/537M [00:00<00:01, 284MB/s]\u001b[A\n",
            " 17%|█▋        | 91.2M/537M [00:00<00:03, 125MB/s]\u001b[A\n",
            " 24%|██▍       | 128M/537M [00:00<00:02, 176MB/s] \u001b[A\n",
            " 29%|██▉       | 157M/537M [00:00<00:01, 200MB/s]\u001b[A\n",
            " 34%|███▍      | 184M/537M [00:00<00:01, 194MB/s]\u001b[A\n",
            " 40%|███▉      | 214M/537M [00:01<00:01, 220MB/s]\u001b[A\n",
            " 45%|████▌     | 244M/537M [00:01<00:01, 238MB/s]\u001b[A\n",
            " 51%|█████     | 275M/537M [00:01<00:01, 256MB/s]\u001b[A\n",
            " 56%|█████▋    | 303M/537M [00:01<00:01, 150MB/s]\u001b[A\n",
            " 62%|██████▏   | 334M/537M [00:01<00:01, 178MB/s]\u001b[A\n",
            " 67%|██████▋   | 359M/537M [00:01<00:01, 178MB/s]\u001b[A\n",
            " 72%|███████▏  | 388M/537M [00:01<00:00, 202MB/s]\u001b[A\n",
            " 77%|███████▋  | 413M/537M [00:02<00:00, 158MB/s]\u001b[A\n",
            " 81%|████████  | 436M/537M [00:02<00:00, 174MB/s]\u001b[A\n",
            " 85%|████████▌ | 458M/537M [00:02<00:00, 170MB/s]\u001b[A\n",
            " 89%|████████▉ | 479M/537M [00:02<00:00, 179MB/s]\u001b[A\n",
            " 94%|█████████▍| 504M/537M [00:02<00:00, 194MB/s]\u001b[A\n",
            "100%|██████████| 537M/537M [00:06<00:00, 81.3MB/s]\n",
            "Action: race:  75%|███████▌  | 3/4 [00:18<00:07,  7.13s/it]  "
          ]
        },
        {
          "output_type": "stream",
          "name": "stdout",
          "text": [
            "24-10-25 10:48:14 - race_model_single_batch.h5 will be downloaded...\n"
          ]
        },
        {
          "output_type": "stream",
          "name": "stderr",
          "text": [
            "Downloading...\n",
            "From: https://github.com/serengil/deepface_models/releases/download/v1.0/race_model_single_batch.h5\n",
            "To: /root/.deepface/weights/race_model_single_batch.h5\n",
            "\n",
            "  0%|          | 0.00/537M [00:00<?, ?B/s]\u001b[A\n",
            "  7%|▋         | 36.2M/537M [00:00<00:01, 356MB/s]\u001b[A\n",
            " 13%|█▎        | 71.8M/537M [00:00<00:01, 306MB/s]\u001b[A\n",
            " 19%|█▉        | 103M/537M [00:00<00:01, 284MB/s] \u001b[A\n",
            " 25%|██▍       | 132M/537M [00:00<00:03, 111MB/s]\u001b[A\n",
            " 29%|██▉       | 155M/537M [00:01<00:02, 129MB/s]\u001b[A\n",
            " 33%|███▎      | 176M/537M [00:01<00:03, 112MB/s]\u001b[A\n",
            " 39%|███▉      | 210M/537M [00:01<00:02, 152MB/s]\u001b[A\n",
            " 44%|████▍     | 237M/537M [00:01<00:01, 173MB/s]\u001b[A\n",
            " 49%|████▉     | 264M/537M [00:01<00:01, 195MB/s]\u001b[A\n",
            " 55%|█████▌    | 296M/537M [00:01<00:01, 224MB/s]\u001b[A\n",
            " 60%|██████    | 323M/537M [00:01<00:00, 227MB/s]\u001b[A\n",
            " 65%|██████▌   | 352M/537M [00:01<00:00, 243MB/s]\u001b[A\n",
            " 71%|███████   | 380M/537M [00:01<00:00, 253MB/s]\u001b[A\n",
            " 76%|███████▌  | 408M/537M [00:02<00:00, 261MB/s]\u001b[A\n",
            " 81%|████████  | 436M/537M [00:02<00:00, 148MB/s]\u001b[A\n",
            " 88%|████████▊ | 473M/537M [00:02<00:00, 189MB/s]\u001b[A\n",
            " 94%|█████████▍| 505M/537M [00:02<00:00, 213MB/s]\u001b[A\n",
            "100%|██████████| 537M/537M [00:02<00:00, 192MB/s]\n",
            "Action: race: 100%|██████████| 4/4 [00:24<00:00,  6.19s/it]"
          ]
        },
        {
          "output_type": "stream",
          "name": "stdout",
          "text": [
            "[{'emotion': {'angry': 0.004049285053042695, 'disgust': 1.946743566350051e-06, 'fear': 0.20368387922644615, 'happy': 2.8697431087493896, 'sad': 0.5334344692528248, 'surprise': 0.0054062315030023456, 'neutral': 96.38367891311646}, 'dominant_emotion': 'neutral', 'region': {'x': 64, 'y': 48, 'w': 72, 'h': 72, 'left_eye': None, 'right_eye': None}, 'face_confidence': 0.88, 'age': 45, 'gender': {'Woman': 0.034889718517661095, 'Man': 99.96510744094849}, 'dominant_gender': 'Man', 'race': {'asian': 22.986188290856873, 'indian': 3.7966166492243585, 'black': 1.7937111012591245, 'white': 26.859534008447408, 'middle eastern': 11.311615116788758, 'latino hispanic': 33.25233855871422}, 'dominant_race': 'latino hispanic'}]\n"
          ]
        },
        {
          "output_type": "stream",
          "name": "stderr",
          "text": [
            "\n"
          ]
        }
      ]
    },
    {
      "cell_type": "code",
      "source": [],
      "metadata": {
        "id": "eod7vTWOShmZ"
      },
      "execution_count": null,
      "outputs": []
    }
  ]
}